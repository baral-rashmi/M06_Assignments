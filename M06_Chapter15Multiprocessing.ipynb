{
 "cells": [
  {
   "cell_type": "code",
   "execution_count": 4,
   "id": "1282be0e",
   "metadata": {},
   "outputs": [
    {
     "name": "stdout",
     "output_type": "stream",
     "text": [
      "Thread-3 - Current Time: 2023-10-02 12:26:17\n",
      "Thread-2 - Current Time: 2023-10-02 12:26:17\n",
      "Thread-1 - Current Time: 2023-10-02 12:26:17\n",
      "All threads have completed.\n"
     ]
    }
   ],
   "source": [
    "\"\"\"\n",
    "Multithreading : Print Current Time using Multiple Threads\n",
    "\n",
    "This program demonstrates how to create, run multiple threads using \n",
    "Python concurrent.futures.ThreadPoolExecutor \n",
    "Each thread simulates a task that sleeps a random duration,then prints the current time.\n",
    "\n",
    "Rashmi Baral\n",
    "\"\"\"\n",
    "\n",
    "import concurrent.futures\n",
    "import random\n",
    "import time\n",
    "from datetime import datetime\n",
    "\n",
    "# Creating a function to perform the desired task\n",
    "def print_current_time(process_num):\n",
    "    # Generating a random sleep time between 0 and 1 seconds\n",
    "    sleep_time = random.uniform(0, 1)\n",
    "    time.sleep(sleep_time)\n",
    "\n",
    "    # Obtaining the current time\n",
    "    current_time = datetime.now().strftime(\"%Y-%m-%d %H:%M:%S\")\n",
    "\n",
    "    # Prints the current time along with the process number\n",
    "    print(f\"Thread-{process_num} - Current Time: {current_time}\")\n",
    "\n",
    "# Defining the number of threads (mytime)\n",
    "mytime = 3  # You can change this value to the desired number of threads\n",
    "\n",
    "# Using ThreadPoolExecutor to create and run threads\n",
    "# concurrent.futures.ThreadPoolExecutor  specify the number of time\n",
    "# I tried to use worker threads (max_workers) as mytime to control the number of concurrent threads. \n",
    "# The executor.submit method is used to submit tasks to the thread pool.\n",
    "with concurrent.futures.ThreadPoolExecutor(max_workers=mytime) as executor:\n",
    "    for num in range(mytime):\n",
    "        executor.submit(print_current_time, num + 1)\n",
    "\n",
    "print(\"All threads have completed.\")\n",
    "\n"
   ]
  }
 ],
 "metadata": {
  "kernelspec": {
   "display_name": "Python 3 (ipykernel)",
   "language": "python",
   "name": "python3"
  },
  "language_info": {
   "codemirror_mode": {
    "name": "ipython",
    "version": 3
   },
   "file_extension": ".py",
   "mimetype": "text/x-python",
   "name": "python",
   "nbconvert_exporter": "python",
   "pygments_lexer": "ipython3",
   "version": "3.11.4"
  }
 },
 "nbformat": 4,
 "nbformat_minor": 5
}
