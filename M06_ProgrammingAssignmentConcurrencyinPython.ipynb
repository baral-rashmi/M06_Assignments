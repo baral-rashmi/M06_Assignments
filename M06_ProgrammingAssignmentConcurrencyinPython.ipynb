{
 "cells": [
  {
   "cell_type": "code",
   "execution_count": 2,
   "id": "42f851e4",
   "metadata": {},
   "outputs": [],
   "source": [
    "\"\"\"\n",
    "Date operations Progarm \n",
    "\n",
    "This program performs the following tasks:\n",
    "\n",
    "13.1: Write the current date as a string to the text file today.txt.\n",
    "13.2: Read the text file today.txt into the string today_string.\n",
    "13.3: Parse the date from today_string.\n",
    "\n",
    "\"\"\"\n",
    "# importing date and time\n",
    "import datetime\n",
    "# obtaining current date\n",
    "current_date = datetime.date.today()\n",
    "# conversion of date into string format \n",
    "date_string = current_date.strftime(\"%Y-%m-%d\") \n",
    "# writing date string to file on today.txt\n",
    "with open(\"today.txt\", \"w\") as file:\n",
    "    file.write(date_string)"
   ]
  },
  {
   "cell_type": "code",
   "execution_count": 3,
   "id": "de7e9ef6",
   "metadata": {},
   "outputs": [],
   "source": [
    "# Reading the contents of the file into today_string\n",
    "with open(\"today.txt\", \"r\") as file:\n",
    "    today_string = file.read()"
   ]
  },
  {
   "cell_type": "code",
   "execution_count": 7,
   "id": "dcdf72f0",
   "metadata": {},
   "outputs": [
    {
     "name": "stdout",
     "output_type": "stream",
     "text": [
      "Parsed Date: 2023-10-02 00:00:00\n"
     ]
    }
   ],
   "source": [
    "from datetime import datetime\n",
    "\n",
    "try:\n",
    "    # Attempts to parse the date string into a datetime object\n",
    "    parsed_date = datetime.strptime(today_string, \"%Y-%m-%d\")\n",
    "# If the parsing succeeds,it prints the parsed date.   \n",
    "    print(\"Parsed Date:\", parsed_date)\n",
    "# If the parsing fails,it prints an error message.\n",
    "except ValueError:\n",
    "    print(\"Error: Unable to parse the date from the string.\")\n"
   ]
  }
 ],
 "metadata": {
  "kernelspec": {
   "display_name": "Python 3 (ipykernel)",
   "language": "python",
   "name": "python3"
  },
  "language_info": {
   "codemirror_mode": {
    "name": "ipython",
    "version": 3
   },
   "file_extension": ".py",
   "mimetype": "text/x-python",
   "name": "python",
   "nbconvert_exporter": "python",
   "pygments_lexer": "ipython3",
   "version": "3.11.4"
  }
 },
 "nbformat": 4,
 "nbformat_minor": 5
}
